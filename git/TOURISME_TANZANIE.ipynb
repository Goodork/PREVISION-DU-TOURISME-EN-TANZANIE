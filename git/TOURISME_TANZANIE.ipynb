{
 "cells": [
  {
   "cell_type": "markdown",
   "id": "5e3ff82a",
   "metadata": {},
   "source": [
    "#### OBJECTIF \n",
    "Utiliser les données d'enquete ur le tourisme et le ML pour predire combien d'argent un touriste depensera en tanzanie."
   ]
  },
  {
   "cell_type": "code",
   "execution_count": 1,
   "id": "3c327177",
   "metadata": {},
   "outputs": [
    {
     "data": {
      "text/plain": [
       "2"
      ]
     },
     "execution_count": 1,
     "metadata": {},
     "output_type": "execute_result"
    }
   ],
   "source": [
    "1+1"
   ]
  },
  {
   "cell_type": "code",
   "execution_count": 237,
   "id": "5e4956f6",
   "metadata": {},
   "outputs": [],
   "source": [
    "# Importons les librairies que nous allons utiliser dans cette etude.\n",
    "\n",
    "import pandas as pd\n",
    "import matplotlib.pyplot as plt\n",
    "import numpy as np\n",
    "import seaborn as sns\n",
    "from sklearn.preprocessing import LabelEncoder,OrdinalEncoder\n",
    "from sklearn.model_selection import train_test_split\n",
    "from sklearn.metrics import mean_absolute_error\n",
    "from sklearn.linear_model import LinearRegression\n",
    "from sklearn.svm import SVR\n",
    "from sklearn.ensemble import RandomForestRegressor,GradientBoostingRegressor\n",
    "from sklearn.model_selection import GridSearchCV\n",
    "\n"
   ]
  },
  {
   "cell_type": "code",
   "execution_count": 3,
   "id": "5e3fdd2f",
   "metadata": {},
   "outputs": [
    {
     "data": {
      "text/html": [
       "<div>\n",
       "<style scoped>\n",
       "    .dataframe tbody tr th:only-of-type {\n",
       "        vertical-align: middle;\n",
       "    }\n",
       "\n",
       "    .dataframe tbody tr th {\n",
       "        vertical-align: top;\n",
       "    }\n",
       "\n",
       "    .dataframe thead th {\n",
       "        text-align: right;\n",
       "    }\n",
       "</style>\n",
       "<table border=\"1\" class=\"dataframe\">\n",
       "  <thead>\n",
       "    <tr style=\"text-align: right;\">\n",
       "      <th></th>\n",
       "      <th>ID</th>\n",
       "      <th>country</th>\n",
       "      <th>age_group</th>\n",
       "      <th>travel_with</th>\n",
       "      <th>total_female</th>\n",
       "      <th>total_male</th>\n",
       "      <th>purpose</th>\n",
       "      <th>main_activity</th>\n",
       "      <th>info_source</th>\n",
       "      <th>tour_arrangement</th>\n",
       "      <th>...</th>\n",
       "      <th>package_transport_tz</th>\n",
       "      <th>package_sightseeing</th>\n",
       "      <th>package_guided_tour</th>\n",
       "      <th>package_insurance</th>\n",
       "      <th>night_mainland</th>\n",
       "      <th>night_zanzibar</th>\n",
       "      <th>payment_mode</th>\n",
       "      <th>first_trip_tz</th>\n",
       "      <th>most_impressing</th>\n",
       "      <th>total_cost</th>\n",
       "    </tr>\n",
       "  </thead>\n",
       "  <tbody>\n",
       "    <tr>\n",
       "      <th>0</th>\n",
       "      <td>tour_0</td>\n",
       "      <td>SWIZERLAND</td>\n",
       "      <td>45-64</td>\n",
       "      <td>Friends/Relatives</td>\n",
       "      <td>1.0</td>\n",
       "      <td>1.0</td>\n",
       "      <td>Leisure and Holidays</td>\n",
       "      <td>Wildlife tourism</td>\n",
       "      <td>Friends, relatives</td>\n",
       "      <td>Independent</td>\n",
       "      <td>...</td>\n",
       "      <td>No</td>\n",
       "      <td>No</td>\n",
       "      <td>No</td>\n",
       "      <td>No</td>\n",
       "      <td>13.0</td>\n",
       "      <td>0.0</td>\n",
       "      <td>Cash</td>\n",
       "      <td>No</td>\n",
       "      <td>Friendly People</td>\n",
       "      <td>674602.5</td>\n",
       "    </tr>\n",
       "    <tr>\n",
       "      <th>1</th>\n",
       "      <td>tour_10</td>\n",
       "      <td>UNITED KINGDOM</td>\n",
       "      <td>25-44</td>\n",
       "      <td>NaN</td>\n",
       "      <td>1.0</td>\n",
       "      <td>0.0</td>\n",
       "      <td>Leisure and Holidays</td>\n",
       "      <td>Cultural tourism</td>\n",
       "      <td>others</td>\n",
       "      <td>Independent</td>\n",
       "      <td>...</td>\n",
       "      <td>No</td>\n",
       "      <td>No</td>\n",
       "      <td>No</td>\n",
       "      <td>No</td>\n",
       "      <td>14.0</td>\n",
       "      <td>7.0</td>\n",
       "      <td>Cash</td>\n",
       "      <td>Yes</td>\n",
       "      <td>Wonderful Country, Landscape, Nature</td>\n",
       "      <td>3214906.5</td>\n",
       "    </tr>\n",
       "    <tr>\n",
       "      <th>2</th>\n",
       "      <td>tour_1000</td>\n",
       "      <td>UNITED KINGDOM</td>\n",
       "      <td>25-44</td>\n",
       "      <td>Alone</td>\n",
       "      <td>0.0</td>\n",
       "      <td>1.0</td>\n",
       "      <td>Visiting Friends and Relatives</td>\n",
       "      <td>Cultural tourism</td>\n",
       "      <td>Friends, relatives</td>\n",
       "      <td>Independent</td>\n",
       "      <td>...</td>\n",
       "      <td>No</td>\n",
       "      <td>No</td>\n",
       "      <td>No</td>\n",
       "      <td>No</td>\n",
       "      <td>1.0</td>\n",
       "      <td>31.0</td>\n",
       "      <td>Cash</td>\n",
       "      <td>No</td>\n",
       "      <td>Excellent Experience</td>\n",
       "      <td>3315000.0</td>\n",
       "    </tr>\n",
       "    <tr>\n",
       "      <th>3</th>\n",
       "      <td>tour_1002</td>\n",
       "      <td>UNITED KINGDOM</td>\n",
       "      <td>25-44</td>\n",
       "      <td>Spouse</td>\n",
       "      <td>1.0</td>\n",
       "      <td>1.0</td>\n",
       "      <td>Leisure and Holidays</td>\n",
       "      <td>Wildlife tourism</td>\n",
       "      <td>Travel, agent, tour operator</td>\n",
       "      <td>Package Tour</td>\n",
       "      <td>...</td>\n",
       "      <td>Yes</td>\n",
       "      <td>Yes</td>\n",
       "      <td>Yes</td>\n",
       "      <td>No</td>\n",
       "      <td>11.0</td>\n",
       "      <td>0.0</td>\n",
       "      <td>Cash</td>\n",
       "      <td>Yes</td>\n",
       "      <td>Friendly People</td>\n",
       "      <td>7790250.0</td>\n",
       "    </tr>\n",
       "    <tr>\n",
       "      <th>4</th>\n",
       "      <td>tour_1004</td>\n",
       "      <td>CHINA</td>\n",
       "      <td>1-24</td>\n",
       "      <td>NaN</td>\n",
       "      <td>1.0</td>\n",
       "      <td>0.0</td>\n",
       "      <td>Leisure and Holidays</td>\n",
       "      <td>Wildlife tourism</td>\n",
       "      <td>Travel, agent, tour operator</td>\n",
       "      <td>Independent</td>\n",
       "      <td>...</td>\n",
       "      <td>No</td>\n",
       "      <td>No</td>\n",
       "      <td>No</td>\n",
       "      <td>No</td>\n",
       "      <td>7.0</td>\n",
       "      <td>4.0</td>\n",
       "      <td>Cash</td>\n",
       "      <td>Yes</td>\n",
       "      <td>No comments</td>\n",
       "      <td>1657500.0</td>\n",
       "    </tr>\n",
       "  </tbody>\n",
       "</table>\n",
       "<p>5 rows × 23 columns</p>\n",
       "</div>"
      ],
      "text/plain": [
       "          ID         country age_group        travel_with  total_female  \\\n",
       "0     tour_0      SWIZERLAND     45-64  Friends/Relatives           1.0   \n",
       "1    tour_10  UNITED KINGDOM     25-44                NaN           1.0   \n",
       "2  tour_1000  UNITED KINGDOM     25-44              Alone           0.0   \n",
       "3  tour_1002  UNITED KINGDOM     25-44             Spouse           1.0   \n",
       "4  tour_1004           CHINA      1-24                NaN           1.0   \n",
       "\n",
       "   total_male                         purpose     main_activity  \\\n",
       "0         1.0            Leisure and Holidays  Wildlife tourism   \n",
       "1         0.0            Leisure and Holidays  Cultural tourism   \n",
       "2         1.0  Visiting Friends and Relatives  Cultural tourism   \n",
       "3         1.0            Leisure and Holidays  Wildlife tourism   \n",
       "4         0.0            Leisure and Holidays  Wildlife tourism   \n",
       "\n",
       "                    info_source tour_arrangement  ... package_transport_tz  \\\n",
       "0            Friends, relatives      Independent  ...                   No   \n",
       "1                        others      Independent  ...                   No   \n",
       "2            Friends, relatives      Independent  ...                   No   \n",
       "3  Travel, agent, tour operator     Package Tour  ...                  Yes   \n",
       "4  Travel, agent, tour operator      Independent  ...                   No   \n",
       "\n",
       "  package_sightseeing package_guided_tour package_insurance night_mainland  \\\n",
       "0                  No                  No                No           13.0   \n",
       "1                  No                  No                No           14.0   \n",
       "2                  No                  No                No            1.0   \n",
       "3                 Yes                 Yes                No           11.0   \n",
       "4                  No                  No                No            7.0   \n",
       "\n",
       "  night_zanzibar payment_mode  first_trip_tz  \\\n",
       "0            0.0         Cash             No   \n",
       "1            7.0         Cash            Yes   \n",
       "2           31.0         Cash             No   \n",
       "3            0.0         Cash            Yes   \n",
       "4            4.0         Cash            Yes   \n",
       "\n",
       "                        most_impressing total_cost  \n",
       "0                       Friendly People   674602.5  \n",
       "1  Wonderful Country, Landscape, Nature  3214906.5  \n",
       "2                  Excellent Experience  3315000.0  \n",
       "3                       Friendly People  7790250.0  \n",
       "4                           No comments  1657500.0  \n",
       "\n",
       "[5 rows x 23 columns]"
      ]
     },
     "execution_count": 3,
     "metadata": {},
     "output_type": "execute_result"
    }
   ],
   "source": [
    "# Chargeons les données utilisées pour cette étude.\n",
    "data=pd.read_csv('Train.csv')\n",
    "data.head()"
   ]
  },
  {
   "cell_type": "code",
   "execution_count": 5,
   "id": "05c40765",
   "metadata": {},
   "outputs": [
    {
     "data": {
      "text/plain": [
       "Index(['ID', 'country', 'age_group', 'travel_with', 'total_female',\n",
       "       'total_male', 'purpose', 'main_activity', 'info_source',\n",
       "       'tour_arrangement', 'package_transport_int', 'package_accomodation',\n",
       "       'package_food', 'package_transport_tz', 'package_sightseeing',\n",
       "       'package_guided_tour', 'package_insurance', 'night_mainland',\n",
       "       'night_zanzibar', 'payment_mode', 'first_trip_tz', 'most_impressing',\n",
       "       'total_cost'],\n",
       "      dtype='object')"
      ]
     },
     "execution_count": 5,
     "metadata": {},
     "output_type": "execute_result"
    }
   ],
   "source": [
    "data.columns"
   ]
  },
  {
   "cell_type": "markdown",
   "id": "bcd10ca5",
   "metadata": {},
   "source": [
    "#### Identification de la variable cible (target)"
   ]
  },
  {
   "cell_type": "code",
   "execution_count": 6,
   "id": "ac90e828",
   "metadata": {},
   "outputs": [
    {
     "data": {
      "text/plain": [
       "0         674602.5\n",
       "1        3214906.5\n",
       "2        3315000.0\n",
       "3        7790250.0\n",
       "4        1657500.0\n",
       "           ...    \n",
       "4804     3315000.0\n",
       "4805    10690875.0\n",
       "4806     2246636.7\n",
       "4807     1160250.0\n",
       "4808    13260000.0\n",
       "Name: total_cost, Length: 4809, dtype: float64"
      ]
     },
     "execution_count": 6,
     "metadata": {},
     "output_type": "execute_result"
    }
   ],
   "source": [
    "# La variable cible est : total_cost\n",
    "data['total_cost']"
   ]
  },
  {
   "cell_type": "code",
   "execution_count": 9,
   "id": "0c6080e7",
   "metadata": {},
   "outputs": [
    {
     "data": {
      "text/plain": [
       "(4809, 23)"
      ]
     },
     "execution_count": 9,
     "metadata": {},
     "output_type": "execute_result"
    }
   ],
   "source": [
    "# Nombre de ligne et nombre de colonnes de la base de données utilisée\n",
    "# La base de données contient 4809 lignes et 23 colonnes\n",
    "data.shape"
   ]
  },
  {
   "cell_type": "code",
   "execution_count": 15,
   "id": "7d1a7cdc",
   "metadata": {},
   "outputs": [
    {
     "data": {
      "text/plain": [
       "ID                        object\n",
       "country                   object\n",
       "age_group                 object\n",
       "travel_with               object\n",
       "total_female             float64\n",
       "total_male               float64\n",
       "purpose                   object\n",
       "main_activity             object\n",
       "info_source               object\n",
       "tour_arrangement          object\n",
       "package_transport_int     object\n",
       "package_accomodation      object\n",
       "package_food              object\n",
       "package_transport_tz      object\n",
       "package_sightseeing       object\n",
       "package_guided_tour       object\n",
       "package_insurance         object\n",
       "night_mainland           float64\n",
       "night_zanzibar           float64\n",
       "payment_mode              object\n",
       "first_trip_tz             object\n",
       "most_impressing           object\n",
       "total_cost               float64\n",
       "dtype: object"
      ]
     },
     "execution_count": 15,
     "metadata": {},
     "output_type": "execute_result"
    }
   ],
   "source": [
    "# Determinons le type de chaque variable \n",
    "data.dtypes"
   ]
  },
  {
   "cell_type": "code",
   "execution_count": 16,
   "id": "dc85012d",
   "metadata": {},
   "outputs": [
    {
     "data": {
      "text/plain": [
       "object     18\n",
       "float64     5\n",
       "dtype: int64"
      ]
     },
     "execution_count": 16,
     "metadata": {},
     "output_type": "execute_result"
    }
   ],
   "source": [
    "# somme totale de chaque type de variable dans la base de données\n",
    "data.dtypes.value_counts()"
   ]
  },
  {
   "cell_type": "code",
   "execution_count": 18,
   "id": "3b50a92f",
   "metadata": {},
   "outputs": [
    {
     "data": {
      "text/plain": [
       "ID                          0\n",
       "country                     0\n",
       "age_group                   0\n",
       "travel_with              1114\n",
       "total_female                3\n",
       "total_male                  5\n",
       "purpose                     0\n",
       "main_activity               0\n",
       "info_source                 0\n",
       "tour_arrangement            0\n",
       "package_transport_int       0\n",
       "package_accomodation        0\n",
       "package_food                0\n",
       "package_transport_tz        0\n",
       "package_sightseeing         0\n",
       "package_guided_tour         0\n",
       "package_insurance           0\n",
       "night_mainland              0\n",
       "night_zanzibar              0\n",
       "payment_mode                0\n",
       "first_trip_tz               0\n",
       "most_impressing           313\n",
       "total_cost                  0\n",
       "dtype: int64"
      ]
     },
     "execution_count": 18,
     "metadata": {},
     "output_type": "execute_result"
    }
   ],
   "source": [
    "# Identification des valeurs manquantes\n",
    "data.isna().sum()"
   ]
  },
  {
   "cell_type": "code",
   "execution_count": 42,
   "id": "eeb64827",
   "metadata": {},
   "outputs": [
    {
     "data": {
      "text/plain": [
       "<AxesSubplot:>"
      ]
     },
     "execution_count": 42,
     "metadata": {},
     "output_type": "execute_result"
    },
    {
     "data": {
      "image/png": "[encoded data removed]",
      "text/plain": [
       "<Figure size 432x288 with 2 Axes>"
      ]
     },
     "metadata": {
      "needs_background": "light"
     },
     "output_type": "display_data"
    }
   ],
   "source": [
    "# Visualisation des variables manquantes sur une carte.\n",
    "sns.heatmap(data.isna())"
   ]
  },
  {
   "cell_type": "code",
   "execution_count": null,
   "id": "09ef00e7",
   "metadata": {},
   "outputs": [],
   "source": []
  },
  {
   "cell_type": "markdown",
   "id": "e40855df",
   "metadata": {},
   "source": [
    "#### Visualisation des variables  et de la target pour mieux les comprendres"
   ]
  },
  {
   "cell_type": "code",
   "execution_count": 22,
   "id": "206466a8",
   "metadata": {},
   "outputs": [
    {
     "data": {
      "text/plain": [
       "array([  674602.5,  3214906.5,  3315000. , ...,  3150580. , 38339920. ,\n",
       "        2246636.7])"
      ]
     },
     "execution_count": 22,
     "metadata": {},
     "output_type": "execute_result"
    }
   ],
   "source": [
    "# visualisation de la variable cible \n",
    "data['total_cost'].unique()\n"
   ]
  },
  {
   "cell_type": "code",
   "execution_count": 33,
   "id": "605869cb",
   "metadata": {},
   "outputs": [
    {
     "name": "stderr",
     "output_type": "stream",
     "text": [
      "C:\\Users\\NEUMAN\\anaconda3\\lib\\site-packages\\seaborn\\_decorators.py:36: FutureWarning: Pass the following variable as a keyword arg: x. From version 0.12, the only valid positional argument will be `data`, and passing other arguments without an explicit keyword will result in an error or misinterpretation.\n",
      "  warnings.warn(\n"
     ]
    },
    {
     "data": {
      "text/plain": [
       "<AxesSubplot:xlabel='total_cost', ylabel='count'>"
      ]
     },
     "execution_count": 33,
     "metadata": {},
     "output_type": "execute_result"
    },
    {
     "data": {
      "image/png": "[encoded data removed]",
      "text/plain": [
       "<Figure size 432x288 with 1 Axes>"
      ]
     },
     "metadata": {
      "needs_background": "light"
     },
     "output_type": "display_data"
    }
   ],
   "source": [
    "sns.countplot(data['total_cost'])"
   ]
  },
  {
   "cell_type": "code",
   "execution_count": 34,
   "id": "ec0d0ddf",
   "metadata": {},
   "outputs": [
    {
     "data": {
      "text/plain": [
       "<AxesSubplot:xlabel='total_cost', ylabel='Count'>"
      ]
     },
     "execution_count": 34,
     "metadata": {},
     "output_type": "execute_result"
    },
    {
     "data": {
      "image/png": "[encoded data removed]",
      "text/plain": [
       "<Figure size 432x288 with 1 Axes>"
      ]
     },
     "metadata": {
      "needs_background": "light"
     },
     "output_type": "display_data"
    }
   ],
   "source": [
    "sns.histplot(data['total_cost'])"
   ]
  },
  {
   "cell_type": "code",
   "execution_count": 26,
   "id": "f59778a4",
   "metadata": {},
   "outputs": [
    {
     "name": "stderr",
     "output_type": "stream",
     "text": [
      "C:\\Users\\NEUMAN\\anaconda3\\lib\\site-packages\\seaborn\\_decorators.py:36: FutureWarning: Pass the following variable as a keyword arg: x. From version 0.12, the only valid positional argument will be `data`, and passing other arguments without an explicit keyword will result in an error or misinterpretation.\n",
      "  warnings.warn(\n"
     ]
    },
    {
     "data": {
      "text/plain": [
       "<AxesSubplot:xlabel='total_cost'>"
      ]
     },
     "execution_count": 26,
     "metadata": {},
     "output_type": "execute_result"
    },
    {
     "data": {
      "image/png": "[encoded data removed]",
      "text/plain": [
       "<Figure size 432x288 with 1 Axes>"
      ]
     },
     "metadata": {
      "needs_background": "light"
     },
     "output_type": "display_data"
    }
   ],
   "source": [
    "sns.boxplot(data['total_cost'])"
   ]
  },
  {
   "cell_type": "code",
   "execution_count": 73,
   "id": "8ad3461f",
   "metadata": {},
   "outputs": [
    {
     "data": {
      "text/plain": [
       "<AxesSubplot:ylabel='country'>"
      ]
     },
     "execution_count": 73,
     "metadata": {},
     "output_type": "execute_result"
    },
    {
     "data": {
      "image/png": "[encoded data removed]",
      "text/plain": [
       "<Figure size 432x288 with 1 Axes>"
      ]
     },
     "metadata": {},
     "output_type": "display_data"
    }
   ],
   "source": [
    "data['country'].value_counts().plot.pie()"
   ]
  },
  {
   "cell_type": "code",
   "execution_count": 75,
   "id": "004ce2bc",
   "metadata": {},
   "outputs": [
    {
     "data": {
      "text/plain": [
       "<AxesSubplot:ylabel='age_group'>"
      ]
     },
     "execution_count": 75,
     "metadata": {},
     "output_type": "execute_result"
    },
    {
     "data": {
      "image/png": "[encoded data removed]",
      "text/plain": [
       "<Figure size 432x288 with 1 Axes>"
      ]
     },
     "metadata": {},
     "output_type": "display_data"
    }
   ],
   "source": [
    "data['age_group'].value_counts().plot.pie()"
   ]
  },
  {
   "cell_type": "code",
   "execution_count": 43,
   "id": "2f510263",
   "metadata": {},
   "outputs": [
    {
     "data": {
      "text/html": [
       "<div>\n",
       "<style scoped>\n",
       "    .dataframe tbody tr th:only-of-type {\n",
       "        vertical-align: middle;\n",
       "    }\n",
       "\n",
       "    .dataframe tbody tr th {\n",
       "        vertical-align: top;\n",
       "    }\n",
       "\n",
       "    .dataframe thead th {\n",
       "        text-align: right;\n",
       "    }\n",
       "</style>\n",
       "<table border=\"1\" class=\"dataframe\">\n",
       "  <thead>\n",
       "    <tr style=\"text-align: right;\">\n",
       "      <th></th>\n",
       "      <th>total_female</th>\n",
       "      <th>total_male</th>\n",
       "      <th>night_mainland</th>\n",
       "      <th>night_zanzibar</th>\n",
       "      <th>total_cost</th>\n",
       "    </tr>\n",
       "  </thead>\n",
       "  <tbody>\n",
       "    <tr>\n",
       "      <th>total_female</th>\n",
       "      <td>1.000000</td>\n",
       "      <td>0.471180</td>\n",
       "      <td>0.031200</td>\n",
       "      <td>0.138555</td>\n",
       "      <td>0.286097</td>\n",
       "    </tr>\n",
       "    <tr>\n",
       "      <th>total_male</th>\n",
       "      <td>0.471180</td>\n",
       "      <td>1.000000</td>\n",
       "      <td>-0.041964</td>\n",
       "      <td>0.050318</td>\n",
       "      <td>0.185848</td>\n",
       "    </tr>\n",
       "    <tr>\n",
       "      <th>night_mainland</th>\n",
       "      <td>0.031200</td>\n",
       "      <td>-0.041964</td>\n",
       "      <td>1.000000</td>\n",
       "      <td>-0.118155</td>\n",
       "      <td>0.020473</td>\n",
       "    </tr>\n",
       "    <tr>\n",
       "      <th>night_zanzibar</th>\n",
       "      <td>0.138555</td>\n",
       "      <td>0.050318</td>\n",
       "      <td>-0.118155</td>\n",
       "      <td>1.000000</td>\n",
       "      <td>0.145139</td>\n",
       "    </tr>\n",
       "    <tr>\n",
       "      <th>total_cost</th>\n",
       "      <td>0.286097</td>\n",
       "      <td>0.185848</td>\n",
       "      <td>0.020473</td>\n",
       "      <td>0.145139</td>\n",
       "      <td>1.000000</td>\n",
       "    </tr>\n",
       "  </tbody>\n",
       "</table>\n",
       "</div>"
      ],
      "text/plain": [
       "                total_female  total_male  night_mainland  night_zanzibar  \\\n",
       "total_female        1.000000    0.471180        0.031200        0.138555   \n",
       "total_male          0.471180    1.000000       -0.041964        0.050318   \n",
       "night_mainland      0.031200   -0.041964        1.000000       -0.118155   \n",
       "night_zanzibar      0.138555    0.050318       -0.118155        1.000000   \n",
       "total_cost          0.286097    0.185848        0.020473        0.145139   \n",
       "\n",
       "                total_cost  \n",
       "total_female      0.286097  \n",
       "total_male        0.185848  \n",
       "night_mainland    0.020473  \n",
       "night_zanzibar    0.145139  \n",
       "total_cost        1.000000  "
      ]
     },
     "execution_count": 43,
     "metadata": {},
     "output_type": "execute_result"
    }
   ],
   "source": [
    "# Identifier la relation entre la variable cible et les autres variables.\n",
    "data.corr()"
   ]
  },
  {
   "cell_type": "markdown",
   "id": "16431f1d",
   "metadata": {},
   "source": [
    "### ELIMINATION DES VALEURS MANQUANTES ET ENCODAGE DES DONNEES."
   ]
  },
  {
   "cell_type": "code",
   "execution_count": 66,
   "id": "06573800",
   "metadata": {},
   "outputs": [],
   "source": [
    "# Supprimons les valeurs manquantes .\n",
    "data=data.dropna(axis=0)"
   ]
  },
  {
   "cell_type": "code",
   "execution_count": 67,
   "id": "83a28bf9",
   "metadata": {},
   "outputs": [
    {
     "data": {
      "text/plain": [
       "ID                       0\n",
       "country                  0\n",
       "age_group                0\n",
       "travel_with              0\n",
       "total_female             0\n",
       "total_male               0\n",
       "purpose                  0\n",
       "main_activity            0\n",
       "info_source              0\n",
       "tour_arrangement         0\n",
       "package_transport_int    0\n",
       "package_accomodation     0\n",
       "package_food             0\n",
       "package_transport_tz     0\n",
       "package_sightseeing      0\n",
       "package_guided_tour      0\n",
       "package_insurance        0\n",
       "night_mainland           0\n",
       "night_zanzibar           0\n",
       "payment_mode             0\n",
       "first_trip_tz            0\n",
       "most_impressing          0\n",
       "total_cost               0\n",
       "dtype: int64"
      ]
     },
     "execution_count": 67,
     "metadata": {},
     "output_type": "execute_result"
    }
   ],
   "source": [
    "data.isna().sum()"
   ]
  },
  {
   "cell_type": "code",
   "execution_count": 74,
   "id": "f60a2e33",
   "metadata": {},
   "outputs": [
    {
     "data": {
      "text/plain": [
       "ID                        object\n",
       "country                   object\n",
       "age_group                 object\n",
       "travel_with               object\n",
       "total_female             float64\n",
       "total_male               float64\n",
       "purpose                   object\n",
       "main_activity             object\n",
       "info_source               object\n",
       "tour_arrangement          object\n",
       "package_transport_int     object\n",
       "package_accomodation      object\n",
       "package_food              object\n",
       "package_transport_tz      object\n",
       "package_sightseeing       object\n",
       "package_guided_tour       object\n",
       "package_insurance         object\n",
       "night_mainland           float64\n",
       "night_zanzibar           float64\n",
       "payment_mode              object\n",
       "first_trip_tz             object\n",
       "most_impressing           object\n",
       "total_cost               float64\n",
       "dtype: object"
      ]
     },
     "execution_count": 74,
     "metadata": {},
     "output_type": "execute_result"
    }
   ],
   "source": [
    "data.dtypes"
   ]
  },
  {
   "cell_type": "markdown",
   "id": "d3c3f40c",
   "metadata": {},
   "source": [
    "#### ENCODAGE DES VARIABLES DE TYPE OBJECT"
   ]
  },
  {
   "cell_type": "code",
   "execution_count": 78,
   "id": "13ee6c8e",
   "metadata": {},
   "outputs": [
    {
     "data": {
      "text/plain": [
       "0       2\n",
       "2       1\n",
       "3       1\n",
       "6       2\n",
       "7       2\n",
       "       ..\n",
       "4803    0\n",
       "4804    2\n",
       "4805    1\n",
       "4807    1\n",
       "4808    1\n",
       "Name: age_group, Length: 3460, dtype: int64"
      ]
     },
     "execution_count": 78,
     "metadata": {},
     "output_type": "execute_result"
    }
   ],
   "source": [
    "# Encodage la variable age_group. 1-24==>0 ;25-44==1;45-64==>2.\n",
    "le=LabelEncoder()\n",
    "data['age_group']=le.fit_transform(data['age_group'])\n",
    "data['age_group']"
   ]
  },
  {
   "cell_type": "code",
   "execution_count": 91,
   "id": "31409f23",
   "metadata": {},
   "outputs": [
    {
     "data": {
      "text/plain": [
       "0     2\n",
       "2     0\n",
       "3     3\n",
       "6     0\n",
       "7     2\n",
       "9     0\n",
       "10    3\n",
       "11    1\n",
       "12    1\n",
       "13    2\n",
       "Name: travel_with, dtype: int64"
      ]
     },
     "execution_count": 91,
     "metadata": {},
     "output_type": "execute_result"
    }
   ],
   "source": [
    "\n",
    "# Encodage la variable travel_with.'Friends/Relatives'==>2 ;'Alone'==0;'Spouse'==>3 ; Children'==>1 ; Spouse and Children'==>5.\n",
    "le=LabelEncoder()\n",
    "data['travel_with']=le.fit_transform(data['travel_with'])\n",
    "data['travel_with'].head(10)"
   ]
  },
  {
   "cell_type": "code",
   "execution_count": 96,
   "id": "c44ebbba",
   "metadata": {},
   "outputs": [
    {
     "data": {
      "text/plain": [
       "array(['Leisure and Holidays', 'Visiting Friends and Relatives',\n",
       "       'Business', 'Scientific and Academic', 'Volunteering',\n",
       "       'Meetings and Conference', 'Other'], dtype=object)"
      ]
     },
     "execution_count": 96,
     "metadata": {},
     "output_type": "execute_result"
    }
   ],
   "source": [
    "data['purpose'].unique()"
   ]
  },
  {
   "cell_type": "code",
   "execution_count": 116,
   "id": "93c549fb",
   "metadata": {},
   "outputs": [
    {
     "data": {
      "text/plain": [
       "0               Leisure and Holidays\n",
       "2     Visiting Friends and Relatives\n",
       "3               Leisure and Holidays\n",
       "6                           Business\n",
       "7               Leisure and Holidays\n",
       "9                           Business\n",
       "10              Leisure and Holidays\n",
       "11              Leisure and Holidays\n",
       "12              Leisure and Holidays\n",
       "13              Leisure and Holidays\n",
       "14    Visiting Friends and Relatives\n",
       "15              Leisure and Holidays\n",
       "16    Visiting Friends and Relatives\n",
       "18    Visiting Friends and Relatives\n",
       "22              Leisure and Holidays\n",
       "23              Leisure and Holidays\n",
       "24              Leisure and Holidays\n",
       "25           Scientific and Academic\n",
       "26                          Business\n",
       "28              Leisure and Holidays\n",
       "30                      Volunteering\n",
       "31    Visiting Friends and Relatives\n",
       "32              Leisure and Holidays\n",
       "33    Visiting Friends and Relatives\n",
       "34    Visiting Friends and Relatives\n",
       "Name: purpose, dtype: object"
      ]
     },
     "execution_count": 116,
     "metadata": {},
     "output_type": "execute_result"
    }
   ],
   "source": [
    "data['purpose'].head(25)"
   ]
  },
  {
   "cell_type": "code",
   "execution_count": 113,
   "id": "6ef668eb",
   "metadata": {},
   "outputs": [],
   "source": [
    "# (data['purpose']=='Leisure and Holidays').value_counts()\n",
    "    \n"
   ]
  },
  {
   "cell_type": "code",
   "execution_count": 120,
   "id": "25760dbb",
   "metadata": {},
   "outputs": [
    {
     "data": {
      "text/plain": [
       "0     1\n",
       "2     5\n",
       "3     1\n",
       "6     0\n",
       "7     1\n",
       "9     0\n",
       "10    1\n",
       "11    1\n",
       "12    1\n",
       "13    1\n",
       "14    5\n",
       "15    1\n",
       "16    5\n",
       "18    5\n",
       "22    1\n",
       "23    1\n",
       "24    1\n",
       "25    4\n",
       "26    0\n",
       "28    1\n",
       "30    6\n",
       "31    5\n",
       "32    1\n",
       "33    5\n",
       "34    5\n",
       "35    1\n",
       "36    5\n",
       "37    4\n",
       "38    1\n",
       "39    2\n",
       "40    5\n",
       "41    5\n",
       "43    1\n",
       "44    1\n",
       "45    0\n",
       "47    1\n",
       "48    1\n",
       "51    2\n",
       "53    6\n",
       "54    1\n",
       "57    5\n",
       "59    5\n",
       "61    2\n",
       "62    1\n",
       "63    4\n",
       "65    1\n",
       "66    1\n",
       "67    5\n",
       "68    2\n",
       "69    1\n",
       "Name: purpose, dtype: int64"
      ]
     },
     "execution_count": 120,
     "metadata": {},
     "output_type": "execute_result"
    }
   ],
   "source": [
    "\"\"\"\n",
    "Encodage la variable purpose \n",
    "\n",
    "'Leisure and Holidays':1, \n",
    "'Visiting Friends and Relatives':5,\n",
    "'Business': 0,\n",
    "'Scientific and Academic': 4,\n",
    "'Volunteering': 6,\n",
    "'Meetings and Conference': 2,\n",
    "'Other: 3'\n",
    "\"\"\"\n",
    "le=LabelEncoder()\n",
    "data['purpose']=le.fit_transform(data['purpose'])\n",
    "data['purpose'].head(50)"
   ]
  },
  {
   "cell_type": "code",
   "execution_count": 92,
   "id": "451c6c9a",
   "metadata": {},
   "outputs": [
    {
     "data": {
      "text/plain": [
       "0     2\n",
       "2     0\n",
       "3     3\n",
       "6     0\n",
       "7     2\n",
       "9     0\n",
       "10    3\n",
       "11    1\n",
       "12    1\n",
       "13    2\n",
       "Name: travel_with, dtype: int64"
      ]
     },
     "execution_count": 92,
     "metadata": {},
     "output_type": "execute_result"
    }
   ],
   "source": [
    "data['travel_with'].head(10)"
   ]
  },
  {
   "cell_type": "code",
   "execution_count": 121,
   "id": "860fffdf",
   "metadata": {},
   "outputs": [],
   "source": [
    "# data1=pd.read_csv('Train.csv')\n",
    "# data1=data1.dropna(axis=0)\n",
    "# data1['purpose'].head(50)"
   ]
  },
  {
   "cell_type": "code",
   "execution_count": 124,
   "id": "ff3f570d",
   "metadata": {},
   "outputs": [
    {
     "data": {
      "text/plain": [
       "array(['Wildlife tourism', 'Cultural tourism', 'Mountain climbing',\n",
       "       'Beach tourism', 'Hunting tourism', 'Bird watching', 'business',\n",
       "       'Conference tourism', 'Diving and Sport Fishing'], dtype=object)"
      ]
     },
     "execution_count": 124,
     "metadata": {},
     "output_type": "execute_result"
    }
   ],
   "source": [
    "data['main_activity'].unique()"
   ]
  },
  {
   "cell_type": "code",
   "execution_count": 127,
   "id": "e5832557",
   "metadata": {},
   "outputs": [
    {
     "data": {
      "text/plain": [
       "0     7.0\n",
       "2     3.0\n",
       "3     7.0\n",
       "6     6.0\n",
       "7     7.0\n",
       "9     7.0\n",
       "10    7.0\n",
       "11    0.0\n",
       "12    7.0\n",
       "13    7.0\n",
       "Name: main_activity, dtype: float64"
      ]
     },
     "execution_count": 127,
     "metadata": {},
     "output_type": "execute_result"
    }
   ],
   "source": [
    "data['main_activity'].head(10)"
   ]
  },
  {
   "cell_type": "code",
   "execution_count": 128,
   "id": "55698831",
   "metadata": {},
   "outputs": [
    {
     "data": {
      "text/plain": [
       "0     7.0\n",
       "2     3.0\n",
       "3     7.0\n",
       "6     6.0\n",
       "7     7.0\n",
       "9     7.0\n",
       "10    7.0\n",
       "11    0.0\n",
       "12    7.0\n",
       "13    7.0\n",
       "14    0.0\n",
       "15    0.0\n",
       "16    6.0\n",
       "18    3.0\n",
       "22    7.0\n",
       "23    0.0\n",
       "24    7.0\n",
       "25    0.0\n",
       "26    7.0\n",
       "28    7.0\n",
       "30    5.0\n",
       "31    5.0\n",
       "32    7.0\n",
       "33    1.0\n",
       "34    5.0\n",
       "35    7.0\n",
       "36    5.0\n",
       "37    6.0\n",
       "38    0.0\n",
       "39    0.0\n",
       "40    0.0\n",
       "41    0.0\n",
       "43    7.0\n",
       "44    0.0\n",
       "45    8.0\n",
       "47    7.0\n",
       "48    7.0\n",
       "51    0.0\n",
       "53    5.0\n",
       "54    0.0\n",
       "57    7.0\n",
       "59    0.0\n",
       "61    6.0\n",
       "62    0.0\n",
       "63    6.0\n",
       "65    7.0\n",
       "66    2.0\n",
       "67    0.0\n",
       "68    6.0\n",
       "69    7.0\n",
       "Name: main_activity, dtype: float64"
      ]
     },
     "execution_count": 128,
     "metadata": {},
     "output_type": "execute_result"
    }
   ],
   "source": [
    "\"\"\"\n",
    "'Wildlife tourism': 7, \n",
    "'Cultural tourism':3,\n",
    "'Mountain climbing':6,\n",
    "'Beach tourism'0,\n",
    "'Hunting tourism':5,\n",
    "'Bird watching':1,\n",
    "'business':8,\n",
    "'Conference tourism2:4',\n",
    "'Diving and Sport Fishing:4'\n",
    "\"\"\"\n",
    "oe=OrdinalEncoder()\n",
    "data['main_activity']=oe.fit_transform(data[['main_activity']])\n",
    "data['main_activity'].head(50)"
   ]
  },
  {
   "cell_type": "code",
   "execution_count": 130,
   "id": "96340ffc",
   "metadata": {},
   "outputs": [],
   "source": [
    "# data1=pd.read_csv('Train.csv')\n",
    "# data1=data1.dropna(axis=0)\n",
    "# data1['main_activity'].head(50)\n"
   ]
  },
  {
   "cell_type": "code",
   "execution_count": 131,
   "id": "c51a16fa",
   "metadata": {},
   "outputs": [
    {
     "data": {
      "text/plain": [
       "ID                        object\n",
       "country                   object\n",
       "age_group                  int64\n",
       "travel_with                int64\n",
       "total_female             float64\n",
       "total_male               float64\n",
       "purpose                    int64\n",
       "main_activity            float64\n",
       "info_source               object\n",
       "tour_arrangement          object\n",
       "package_transport_int     object\n",
       "package_accomodation      object\n",
       "package_food              object\n",
       "package_transport_tz      object\n",
       "package_sightseeing       object\n",
       "package_guided_tour       object\n",
       "package_insurance         object\n",
       "night_mainland           float64\n",
       "night_zanzibar           float64\n",
       "payment_mode              object\n",
       "first_trip_tz             object\n",
       "most_impressing           object\n",
       "total_cost               float64\n",
       "dtype: object"
      ]
     },
     "execution_count": 131,
     "metadata": {},
     "output_type": "execute_result"
    }
   ],
   "source": [
    "data.dtypes"
   ]
  },
  {
   "cell_type": "code",
   "execution_count": 132,
   "id": "8fae9214",
   "metadata": {},
   "outputs": [
    {
     "name": "stderr",
     "output_type": "stream",
     "text": [
      "C:\\Users\\NEUMAN\\anaconda3\\lib\\site-packages\\sklearn\\utils\\validation.py:63: DataConversionWarning: A column-vector y was passed when a 1d array was expected. Please change the shape of y to (n_samples, ), for example using ravel().\n",
      "  return f(*args, **kwargs)\n"
     ]
    },
    {
     "data": {
      "text/plain": [
       "0    0\n",
       "2    0\n",
       "3    5\n",
       "6    0\n",
       "7    5\n",
       "Name: info_source, dtype: int32"
      ]
     },
     "execution_count": 132,
     "metadata": {},
     "output_type": "execute_result"
    }
   ],
   "source": [
    "# Encoder la variable info_source \n",
    "le=LabelEncoder()\n",
    "data['info_source']=le.fit_transform(data[['info_source']])\n",
    "data['info_source'].head(5)"
   ]
  },
  {
   "cell_type": "code",
   "execution_count": 134,
   "id": "9a9335b6",
   "metadata": {},
   "outputs": [
    {
     "data": {
      "text/plain": [
       "0    0\n",
       "2    0\n",
       "3    1\n",
       "6    0\n",
       "7    1\n",
       "Name: tour_arrangement, dtype: int32"
      ]
     },
     "execution_count": 134,
     "metadata": {},
     "output_type": "execute_result"
    }
   ],
   "source": [
    "# Encoder la variable info_source \n",
    "le=LabelEncoder()\n",
    "data['tour_arrangement']=le.fit_transform(data[['tour_arrangement']])\n",
    "data['tour_arrangement'].head(5)"
   ]
  },
  {
   "cell_type": "code",
   "execution_count": 136,
   "id": "c3bf792f",
   "metadata": {},
   "outputs": [
    {
     "data": {
      "text/plain": [
       "0    0\n",
       "2    0\n",
       "3    0\n",
       "6    0\n",
       "7    1\n",
       "Name: package_transport_int, dtype: int32"
      ]
     },
     "execution_count": 136,
     "metadata": {},
     "output_type": "execute_result"
    }
   ],
   "source": [
    "# Encoder la variable package_transport_int \n",
    "le=LabelEncoder()\n",
    "data['package_transport_int']=le.fit_transform(data[['package_transport_int']])\n",
    "data['package_transport_int'].head(5)"
   ]
  },
  {
   "cell_type": "code",
   "execution_count": 138,
   "id": "431534fe",
   "metadata": {},
   "outputs": [
    {
     "data": {
      "text/plain": [
       "0    0\n",
       "2    0\n",
       "3    1\n",
       "6    0\n",
       "7    1\n",
       "Name: package_accomodation, dtype: int32"
      ]
     },
     "execution_count": 138,
     "metadata": {},
     "output_type": "execute_result"
    }
   ],
   "source": [
    "# Encoder la variable package_accomodation \n",
    "le=LabelEncoder()\n",
    "data['package_accomodation']=le.fit_transform(data[['package_accomodation']])\n",
    "data['package_accomodation'].head(5)"
   ]
  },
  {
   "cell_type": "code",
   "execution_count": 143,
   "id": "5c635a0d",
   "metadata": {},
   "outputs": [
    {
     "data": {
      "text/plain": [
       "0    0\n",
       "2    0\n",
       "3    1\n",
       "6    0\n",
       "7    1\n",
       "Name: package_food, dtype: int32"
      ]
     },
     "execution_count": 143,
     "metadata": {},
     "output_type": "execute_result"
    }
   ],
   "source": [
    "# Encoder la variable package_food \n",
    "le=LabelEncoder()\n",
    "data['package_food']=le.fit_transform(data[['package_food']])\n",
    "data['package_food'].head(5)"
   ]
  },
  {
   "cell_type": "code",
   "execution_count": 156,
   "id": "7319f658",
   "metadata": {},
   "outputs": [
    {
     "data": {
      "text/plain": [
       "0    0\n",
       "2    0\n",
       "3    1\n",
       "6    0\n",
       "7    1\n",
       "Name: package_transport_tz, dtype: int64"
      ]
     },
     "execution_count": 156,
     "metadata": {},
     "output_type": "execute_result"
    }
   ],
   "source": [
    "# Encoder la variable package_transport_tz \n",
    "le=LabelEncoder()\n",
    "data['package_transport_tz']=le.fit_transform(data[['package_transport_tz']])\n",
    "data['package_transport_tz'].head(5)"
   ]
  },
  {
   "cell_type": "code",
   "execution_count": 155,
   "id": "0ca6eac6",
   "metadata": {},
   "outputs": [
    {
     "data": {
      "text/plain": [
       "0    0\n",
       "2    0\n",
       "3    1\n",
       "6    0\n",
       "7    1\n",
       "Name: package_sightseeing, dtype: int64"
      ]
     },
     "execution_count": 155,
     "metadata": {},
     "output_type": "execute_result"
    }
   ],
   "source": [
    "# Encoder la variable package_sightseeing \n",
    "le=LabelEncoder()\n",
    "data['package_sightseeing']=le.fit_transform(data[['package_sightseeing']])\n",
    "data['package_sightseeing'].head(5)"
   ]
  },
  {
   "cell_type": "code",
   "execution_count": 154,
   "id": "886bacaf",
   "metadata": {},
   "outputs": [
    {
     "data": {
      "text/plain": [
       "0    0\n",
       "2    0\n",
       "3    1\n",
       "6    0\n",
       "7    1\n",
       "Name: package_guided_tour, dtype: int64"
      ]
     },
     "execution_count": 154,
     "metadata": {},
     "output_type": "execute_result"
    }
   ],
   "source": [
    "# Encoder la variable package_guided_tour \n",
    "le=LabelEncoder()\n",
    "data['package_guided_tour']=le.fit_transform(data[['package_guided_tour']])\n",
    "data['package_guided_tour'].head(5)"
   ]
  },
  {
   "cell_type": "code",
   "execution_count": 161,
   "id": "0e5d5c65",
   "metadata": {},
   "outputs": [
    {
     "data": {
      "text/plain": [
       "0    0\n",
       "2    0\n",
       "3    0\n",
       "6    0\n",
       "7    0\n",
       "Name: payment_mode, dtype: int64"
      ]
     },
     "execution_count": 161,
     "metadata": {},
     "output_type": "execute_result"
    }
   ],
   "source": [
    "# Encoder la variable payment_mode \n",
    "le=LabelEncoder()\n",
    "data['payment_mode']=le.fit_transform(data[['payment_mode']])\n",
    "data['payment_mode'].head(5)"
   ]
  },
  {
   "cell_type": "code",
   "execution_count": null,
   "id": "8b9639ca",
   "metadata": {},
   "outputs": [],
   "source": []
  },
  {
   "cell_type": "code",
   "execution_count": 153,
   "id": "6925cdaf",
   "metadata": {},
   "outputs": [
    {
     "data": {
      "text/plain": [
       "0    0\n",
       "2    0\n",
       "3    0\n",
       "6    0\n",
       "7    1\n",
       "Name: package_insurance, dtype: int32"
      ]
     },
     "execution_count": 153,
     "metadata": {},
     "output_type": "execute_result"
    }
   ],
   "source": [
    "# Encoder la variable package_insurance \n",
    "le=LabelEncoder()\n",
    "data['package_insurance']=le.fit_transform(data[['package_insurance']])\n",
    "data['package_insurance'].head(5)"
   ]
  },
  {
   "cell_type": "code",
   "execution_count": 163,
   "id": "8e46b857",
   "metadata": {},
   "outputs": [
    {
     "data": {
      "text/plain": [
       "0    0\n",
       "2    0\n",
       "3    1\n",
       "6    1\n",
       "7    1\n",
       "Name: first_trip_tz, dtype: int32"
      ]
     },
     "execution_count": 163,
     "metadata": {},
     "output_type": "execute_result"
    }
   ],
   "source": [
    "# Encoder la variable first_trip_tz \n",
    "le=LabelEncoder()\n",
    "data['first_trip_tz']=le.fit_transform(data[['first_trip_tz']])\n",
    "data['first_trip_tz'].head(5)"
   ]
  },
  {
   "cell_type": "code",
   "execution_count": 165,
   "id": "98bb9060",
   "metadata": {},
   "outputs": [
    {
     "data": {
      "text/plain": [
       "array(['Friendly People', 'Excellent Experience',\n",
       "       'Wonderful Country, Landscape, Nature', 'No comments', ' Wildlife',\n",
       "       'Satisfies and Hope Come Back', 'Good service'], dtype=object)"
      ]
     },
     "execution_count": 165,
     "metadata": {},
     "output_type": "execute_result"
    }
   ],
   "source": [
    "# Voir l'ensemble des categories qui se situent dans la variable most_impressing\n",
    "data['most_impressing'].unique()"
   ]
  },
  {
   "cell_type": "code",
   "execution_count": 166,
   "id": "87233409",
   "metadata": {},
   "outputs": [
    {
     "data": {
      "text/plain": [
       "0    2\n",
       "2    1\n",
       "3    2\n",
       "6    2\n",
       "7    2\n",
       "Name: most_impressing, dtype: int32"
      ]
     },
     "execution_count": 166,
     "metadata": {},
     "output_type": "execute_result"
    }
   ],
   "source": [
    "# Encoder la variable most_impressing \n",
    "le=LabelEncoder()\n",
    "data['most_impressing']=le.fit_transform(data[['most_impressing']])\n",
    "data['most_impressing'].head(5)"
   ]
  },
  {
   "cell_type": "markdown",
   "id": "777d9fcb",
   "metadata": {},
   "source": [
    "#### PREPARATION DES DONNEES POUR LA MISE EN PLACE DE MODELE PREDICTIF\n",
    "Nous divisons les donnés d'entrainement en deux parties:\n",
    "trainset (pour entrainer le modele : 80 % de la base de données d'entrainement)\n",
    "testset(pour evaluer le modele : 20 % de la base de données d'entrainement)."
   ]
  },
  {
   "cell_type": "code",
   "execution_count": 226,
   "id": "abbc75a8",
   "metadata": {},
   "outputs": [],
   "source": [
    "# Preparation des données d'entrainement (trainset)\n",
    "\n",
    "x=data.drop(data[['total_cost']],axis=1)\n",
    "y=data['total_cost']\n",
    "\n"
   ]
  },
  {
   "cell_type": "code",
   "execution_count": 227,
   "id": "278eaa22",
   "metadata": {},
   "outputs": [],
   "source": [
    "x=data.drop(data[['ID','country']],axis=1)\n"
   ]
  },
  {
   "cell_type": "code",
   "execution_count": 228,
   "id": "4c067698",
   "metadata": {},
   "outputs": [],
   "source": [
    "# Diviser la base de données utilisée\n",
    "x_train,x_val,y_train,y_val=train_test_split(x,y,test_size=0.2,random_state=1)"
   ]
  },
  {
   "cell_type": "markdown",
   "id": "8c375d7d",
   "metadata": {},
   "source": [
    "###### Preparation des données de test (testset)."
   ]
  },
  {
   "cell_type": "code",
   "execution_count": 173,
   "id": "fe18270d",
   "metadata": {},
   "outputs": [
    {
     "data": {
      "text/plain": [
       "ID                         0\n",
       "country                    0\n",
       "age_group                  0\n",
       "travel_with              327\n",
       "total_female               1\n",
       "total_male                 2\n",
       "purpose                    0\n",
       "main_activity              0\n",
       "info_source                0\n",
       "tour_arrangement           0\n",
       "package_transport_int      0\n",
       "package_accomodation       0\n",
       "package_food               0\n",
       "package_transport_tz       0\n",
       "package_sightseeing        0\n",
       "package_guided_tour        0\n",
       "package_insurance          0\n",
       "night_mainland             0\n",
       "night_zanzibar             0\n",
       "payment_mode               0\n",
       "first_trip_tz              0\n",
       "most_impressing          111\n",
       "dtype: int64"
      ]
     },
     "execution_count": 173,
     "metadata": {},
     "output_type": "execute_result"
    }
   ],
   "source": [
    "# Preparation des données de test (testset).\n",
    "data_val=pd.read_csv('Test.csv')\n",
    "#Nombre de valeurs manqantes dans les données de test.\n",
    "data_val.isna().sum()"
   ]
  },
  {
   "cell_type": "code",
   "execution_count": 176,
   "id": "237b67b5",
   "metadata": {},
   "outputs": [
    {
     "data": {
      "text/plain": [
       "ID                       0\n",
       "country                  0\n",
       "age_group                0\n",
       "travel_with              0\n",
       "total_female             0\n",
       "total_male               0\n",
       "purpose                  0\n",
       "main_activity            0\n",
       "info_source              0\n",
       "tour_arrangement         0\n",
       "package_transport_int    0\n",
       "package_accomodation     0\n",
       "package_food             0\n",
       "package_transport_tz     0\n",
       "package_sightseeing      0\n",
       "package_guided_tour      0\n",
       "package_insurance        0\n",
       "night_mainland           0\n",
       "night_zanzibar           0\n",
       "payment_mode             0\n",
       "first_trip_tz            0\n",
       "most_impressing          0\n",
       "dtype: int64"
      ]
     },
     "execution_count": 176,
     "metadata": {},
     "output_type": "execute_result"
    }
   ],
   "source": [
    "# Suppression des valeurs manquantes\n",
    "data_val=data_val.dropna()\n",
    "data_val.isna().sum()"
   ]
  },
  {
   "cell_type": "code",
   "execution_count": 178,
   "id": "16d55ece",
   "metadata": {},
   "outputs": [
    {
     "name": "stderr",
     "output_type": "stream",
     "text": [
      "C:\\Users\\NEUMAN\\anaconda3\\lib\\site-packages\\sklearn\\utils\\validation.py:63: DataConversionWarning: A column-vector y was passed when a 1d array was expected. Please change the shape of y to (n_samples, ), for example using ravel().\n",
      "  return f(*args, **kwargs)\n"
     ]
    }
   ],
   "source": [
    "# Encodage la variable age_group. 1-24==>0 ;25-44==1;45-64==>2.\n",
    "le=LabelEncoder()\n",
    "data_val['age_group']=le.fit_transform(data_val['age_group'])\n",
    "\n",
    "\n",
    "# Encodage la variable travel_with.'Friends/Relatives'==>2 ;'Alone'==0;'Spouse'==>3 ; Children'==>1 ; Spouse and Children'==>5.\n",
    "le=LabelEncoder()\n",
    "data_val['travel_with']=le.fit_transform(data_val['travel_with'])\n",
    "\n",
    "\n",
    "\"\"\"\n",
    "Encodage la variable purpose \n",
    "\n",
    "'Leisure and Holidays':1, \n",
    "'Visiting Friends and Relatives':5,\n",
    "'Business': 0,\n",
    "'Scientific and Academic': 4,\n",
    "'Volunteering': 6,\n",
    "'Meetings and Conference': 2,\n",
    "'Other: 3'\n",
    "\"\"\"\n",
    "le=LabelEncoder()\n",
    "data_val['purpose']=le.fit_transform(data_val['purpose'])\n",
    "\n",
    "\n",
    "\n",
    "\"\"\"\n",
    "'Wildlife tourism': 7, \n",
    "'Cultural tourism':3,\n",
    "'Mountain climbing':6,\n",
    "'Beach tourism'0,\n",
    "'Hunting tourism':5,\n",
    "'Bird watching':1,\n",
    "'business':8,\n",
    "'Conference tourism2:4',\n",
    "'Diving and Sport Fishing:4'\n",
    "\"\"\"\n",
    "oe=OrdinalEncoder()\n",
    "data_val['main_activity']=oe.fit_transform(data_val[['main_activity']])\n",
    "\n",
    "\n",
    "\n",
    "# Encoder la variable info_source \n",
    "le=LabelEncoder()\n",
    "data_val['info_source']=le.fit_transform(data_val[['info_source']])\n",
    "\n",
    "\n",
    "# Encoder la variable tour_arrangement \n",
    "le=LabelEncoder()\n",
    "data_val['tour_arrangement']=le.fit_transform(data_val[['tour_arrangement']])\n",
    "\n",
    "\n",
    "\n",
    "# Encoder la variable package_transport_int \n",
    "le=LabelEncoder()\n",
    "data_val['package_transport_int']=le.fit_transform(data_val[['package_transport_int']])\n",
    "\n",
    "\n",
    "# Encoder la variable package_accomodation \n",
    "le=LabelEncoder()\n",
    "data_val['package_accomodation']=le.fit_transform(data_val[['package_accomodation']])\n",
    "\n",
    "\n",
    "# Encoder la variable package_food \n",
    "le=LabelEncoder()\n",
    "data_val['package_food']=le.fit_transform(data_val[['package_food']])\n",
    "\n",
    "\n",
    "# Encoder la variable package_transport_tz \n",
    "le=LabelEncoder()\n",
    "data_val['package_transport_tz']=le.fit_transform(data_val[['package_transport_tz']])\n",
    "\n",
    "\n",
    "\n",
    "# Encoder la variable package_sightseeing \n",
    "le=LabelEncoder()\n",
    "data_val['package_sightseeing']=le.fit_transform(data_val[['package_sightseeing']])\n",
    "\n",
    "\n",
    "# Encoder la variable package_guided_tour \n",
    "le=LabelEncoder()\n",
    "data_val['package_guided_tour']=le.fit_transform(data_val[['package_guided_tour']])\n",
    "\n",
    "\n",
    "# Encoder la variable payment_mode \n",
    "le=LabelEncoder()\n",
    "data_val['payment_mode']=le.fit_transform(data_val[['payment_mode']])\n",
    "\n",
    "\n",
    "\n",
    "# Encoder la variable package_insurance \n",
    "le=LabelEncoder()\n",
    "data_val['package_insurance']=le.fit_transform(data_val[['package_insurance']])\n",
    "\n",
    "\n",
    "# Encoder la variable first_trip_tz \n",
    "le=LabelEncoder()\n",
    "data_val['first_trip_tz']=le.fit_transform(data_val[['first_trip_tz']])\n",
    "\n",
    "\n",
    "# Encoder la variable most_impressing \n",
    "le=LabelEncoder()\n",
    "data_val['most_impressing']=le.fit_transform(data_val[['most_impressing']])"
   ]
  },
  {
   "cell_type": "code",
   "execution_count": 179,
   "id": "fee7df02",
   "metadata": {},
   "outputs": [
    {
     "data": {
      "text/html": [
       "<div>\n",
       "<style scoped>\n",
       "    .dataframe tbody tr th:only-of-type {\n",
       "        vertical-align: middle;\n",
       "    }\n",
       "\n",
       "    .dataframe tbody tr th {\n",
       "        vertical-align: top;\n",
       "    }\n",
       "\n",
       "    .dataframe thead th {\n",
       "        text-align: right;\n",
       "    }\n",
       "</style>\n",
       "<table border=\"1\" class=\"dataframe\">\n",
       "  <thead>\n",
       "    <tr style=\"text-align: right;\">\n",
       "      <th></th>\n",
       "      <th>ID</th>\n",
       "      <th>country</th>\n",
       "      <th>age_group</th>\n",
       "      <th>travel_with</th>\n",
       "      <th>total_female</th>\n",
       "      <th>total_male</th>\n",
       "      <th>purpose</th>\n",
       "      <th>main_activity</th>\n",
       "      <th>info_source</th>\n",
       "      <th>tour_arrangement</th>\n",
       "      <th>...</th>\n",
       "      <th>package_food</th>\n",
       "      <th>package_transport_tz</th>\n",
       "      <th>package_sightseeing</th>\n",
       "      <th>package_guided_tour</th>\n",
       "      <th>package_insurance</th>\n",
       "      <th>night_mainland</th>\n",
       "      <th>night_zanzibar</th>\n",
       "      <th>payment_mode</th>\n",
       "      <th>first_trip_tz</th>\n",
       "      <th>most_impressing</th>\n",
       "    </tr>\n",
       "  </thead>\n",
       "  <tbody>\n",
       "    <tr>\n",
       "      <th>0</th>\n",
       "      <td>tour_1</td>\n",
       "      <td>AUSTRALIA</td>\n",
       "      <td>2</td>\n",
       "      <td>3</td>\n",
       "      <td>1.0</td>\n",
       "      <td>1.0</td>\n",
       "      <td>1</td>\n",
       "      <td>7.0</td>\n",
       "      <td>5</td>\n",
       "      <td>1</td>\n",
       "      <td>...</td>\n",
       "      <td>1</td>\n",
       "      <td>1</td>\n",
       "      <td>1</td>\n",
       "      <td>1</td>\n",
       "      <td>1</td>\n",
       "      <td>10</td>\n",
       "      <td>3</td>\n",
       "      <td>0</td>\n",
       "      <td>1</td>\n",
       "      <td>0</td>\n",
       "    </tr>\n",
       "    <tr>\n",
       "      <th>1</th>\n",
       "      <td>tour_100</td>\n",
       "      <td>SOUTH AFRICA</td>\n",
       "      <td>1</td>\n",
       "      <td>2</td>\n",
       "      <td>0.0</td>\n",
       "      <td>4.0</td>\n",
       "      <td>0</td>\n",
       "      <td>7.0</td>\n",
       "      <td>3</td>\n",
       "      <td>1</td>\n",
       "      <td>...</td>\n",
       "      <td>0</td>\n",
       "      <td>0</td>\n",
       "      <td>0</td>\n",
       "      <td>0</td>\n",
       "      <td>0</td>\n",
       "      <td>13</td>\n",
       "      <td>0</td>\n",
       "      <td>0</td>\n",
       "      <td>0</td>\n",
       "      <td>6</td>\n",
       "    </tr>\n",
       "    <tr>\n",
       "      <th>2</th>\n",
       "      <td>tour_1001</td>\n",
       "      <td>GERMANY</td>\n",
       "      <td>1</td>\n",
       "      <td>2</td>\n",
       "      <td>3.0</td>\n",
       "      <td>0.0</td>\n",
       "      <td>1</td>\n",
       "      <td>0.0</td>\n",
       "      <td>0</td>\n",
       "      <td>0</td>\n",
       "      <td>...</td>\n",
       "      <td>0</td>\n",
       "      <td>0</td>\n",
       "      <td>0</td>\n",
       "      <td>0</td>\n",
       "      <td>0</td>\n",
       "      <td>7</td>\n",
       "      <td>14</td>\n",
       "      <td>0</td>\n",
       "      <td>0</td>\n",
       "      <td>4</td>\n",
       "    </tr>\n",
       "    <tr>\n",
       "      <th>3</th>\n",
       "      <td>tour_1006</td>\n",
       "      <td>CANADA</td>\n",
       "      <td>0</td>\n",
       "      <td>2</td>\n",
       "      <td>2.0</td>\n",
       "      <td>0.0</td>\n",
       "      <td>1</td>\n",
       "      <td>3.0</td>\n",
       "      <td>7</td>\n",
       "      <td>0</td>\n",
       "      <td>...</td>\n",
       "      <td>0</td>\n",
       "      <td>0</td>\n",
       "      <td>0</td>\n",
       "      <td>0</td>\n",
       "      <td>0</td>\n",
       "      <td>0</td>\n",
       "      <td>4</td>\n",
       "      <td>0</td>\n",
       "      <td>1</td>\n",
       "      <td>2</td>\n",
       "    </tr>\n",
       "    <tr>\n",
       "      <th>4</th>\n",
       "      <td>tour_1009</td>\n",
       "      <td>UNITED KINGDOM</td>\n",
       "      <td>2</td>\n",
       "      <td>2</td>\n",
       "      <td>2.0</td>\n",
       "      <td>2.0</td>\n",
       "      <td>1</td>\n",
       "      <td>7.0</td>\n",
       "      <td>0</td>\n",
       "      <td>1</td>\n",
       "      <td>...</td>\n",
       "      <td>1</td>\n",
       "      <td>1</td>\n",
       "      <td>0</td>\n",
       "      <td>0</td>\n",
       "      <td>0</td>\n",
       "      <td>10</td>\n",
       "      <td>0</td>\n",
       "      <td>0</td>\n",
       "      <td>1</td>\n",
       "      <td>2</td>\n",
       "    </tr>\n",
       "    <tr>\n",
       "      <th>...</th>\n",
       "      <td>...</td>\n",
       "      <td>...</td>\n",
       "      <td>...</td>\n",
       "      <td>...</td>\n",
       "      <td>...</td>\n",
       "      <td>...</td>\n",
       "      <td>...</td>\n",
       "      <td>...</td>\n",
       "      <td>...</td>\n",
       "      <td>...</td>\n",
       "      <td>...</td>\n",
       "      <td>...</td>\n",
       "      <td>...</td>\n",
       "      <td>...</td>\n",
       "      <td>...</td>\n",
       "      <td>...</td>\n",
       "      <td>...</td>\n",
       "      <td>...</td>\n",
       "      <td>...</td>\n",
       "      <td>...</td>\n",
       "      <td>...</td>\n",
       "    </tr>\n",
       "    <tr>\n",
       "      <th>1595</th>\n",
       "      <td>tour_977</td>\n",
       "      <td>SOUTH AFRICA</td>\n",
       "      <td>1</td>\n",
       "      <td>2</td>\n",
       "      <td>1.0</td>\n",
       "      <td>2.0</td>\n",
       "      <td>0</td>\n",
       "      <td>7.0</td>\n",
       "      <td>1</td>\n",
       "      <td>0</td>\n",
       "      <td>...</td>\n",
       "      <td>0</td>\n",
       "      <td>0</td>\n",
       "      <td>0</td>\n",
       "      <td>0</td>\n",
       "      <td>0</td>\n",
       "      <td>2</td>\n",
       "      <td>0</td>\n",
       "      <td>1</td>\n",
       "      <td>1</td>\n",
       "      <td>4</td>\n",
       "    </tr>\n",
       "    <tr>\n",
       "      <th>1597</th>\n",
       "      <td>tour_990</td>\n",
       "      <td>ITALY</td>\n",
       "      <td>2</td>\n",
       "      <td>4</td>\n",
       "      <td>3.0</td>\n",
       "      <td>1.0</td>\n",
       "      <td>1</td>\n",
       "      <td>7.0</td>\n",
       "      <td>0</td>\n",
       "      <td>1</td>\n",
       "      <td>...</td>\n",
       "      <td>1</td>\n",
       "      <td>1</td>\n",
       "      <td>1</td>\n",
       "      <td>0</td>\n",
       "      <td>0</td>\n",
       "      <td>10</td>\n",
       "      <td>5</td>\n",
       "      <td>2</td>\n",
       "      <td>1</td>\n",
       "      <td>0</td>\n",
       "    </tr>\n",
       "    <tr>\n",
       "      <th>1598</th>\n",
       "      <td>tour_992</td>\n",
       "      <td>FINLAND</td>\n",
       "      <td>1</td>\n",
       "      <td>0</td>\n",
       "      <td>0.0</td>\n",
       "      <td>1.0</td>\n",
       "      <td>2</td>\n",
       "      <td>6.0</td>\n",
       "      <td>0</td>\n",
       "      <td>0</td>\n",
       "      <td>...</td>\n",
       "      <td>0</td>\n",
       "      <td>0</td>\n",
       "      <td>0</td>\n",
       "      <td>0</td>\n",
       "      <td>0</td>\n",
       "      <td>6</td>\n",
       "      <td>0</td>\n",
       "      <td>0</td>\n",
       "      <td>1</td>\n",
       "      <td>4</td>\n",
       "    </tr>\n",
       "    <tr>\n",
       "      <th>1599</th>\n",
       "      <td>tour_996</td>\n",
       "      <td>SOUTH AFRICA</td>\n",
       "      <td>0</td>\n",
       "      <td>0</td>\n",
       "      <td>0.0</td>\n",
       "      <td>1.0</td>\n",
       "      <td>0</td>\n",
       "      <td>0.0</td>\n",
       "      <td>0</td>\n",
       "      <td>0</td>\n",
       "      <td>...</td>\n",
       "      <td>0</td>\n",
       "      <td>0</td>\n",
       "      <td>0</td>\n",
       "      <td>0</td>\n",
       "      <td>0</td>\n",
       "      <td>4</td>\n",
       "      <td>0</td>\n",
       "      <td>0</td>\n",
       "      <td>1</td>\n",
       "      <td>0</td>\n",
       "    </tr>\n",
       "    <tr>\n",
       "      <th>1600</th>\n",
       "      <td>tour_998</td>\n",
       "      <td>SOUTH AFRICA</td>\n",
       "      <td>1</td>\n",
       "      <td>3</td>\n",
       "      <td>1.0</td>\n",
       "      <td>1.0</td>\n",
       "      <td>1</td>\n",
       "      <td>3.0</td>\n",
       "      <td>2</td>\n",
       "      <td>0</td>\n",
       "      <td>...</td>\n",
       "      <td>0</td>\n",
       "      <td>0</td>\n",
       "      <td>0</td>\n",
       "      <td>0</td>\n",
       "      <td>0</td>\n",
       "      <td>9</td>\n",
       "      <td>5</td>\n",
       "      <td>0</td>\n",
       "      <td>1</td>\n",
       "      <td>2</td>\n",
       "    </tr>\n",
       "  </tbody>\n",
       "</table>\n",
       "<p>1177 rows × 22 columns</p>\n",
       "</div>"
      ],
      "text/plain": [
       "             ID         country  age_group  travel_with  total_female  \\\n",
       "0        tour_1       AUSTRALIA          2            3           1.0   \n",
       "1      tour_100    SOUTH AFRICA          1            2           0.0   \n",
       "2     tour_1001         GERMANY          1            2           3.0   \n",
       "3     tour_1006          CANADA          0            2           2.0   \n",
       "4     tour_1009  UNITED KINGDOM          2            2           2.0   \n",
       "...         ...             ...        ...          ...           ...   \n",
       "1595   tour_977    SOUTH AFRICA          1            2           1.0   \n",
       "1597   tour_990           ITALY          2            4           3.0   \n",
       "1598   tour_992         FINLAND          1            0           0.0   \n",
       "1599   tour_996    SOUTH AFRICA          0            0           0.0   \n",
       "1600   tour_998    SOUTH AFRICA          1            3           1.0   \n",
       "\n",
       "      total_male  purpose  main_activity  info_source  tour_arrangement  ...  \\\n",
       "0            1.0        1            7.0            5                 1  ...   \n",
       "1            4.0        0            7.0            3                 1  ...   \n",
       "2            0.0        1            0.0            0                 0  ...   \n",
       "3            0.0        1            3.0            7                 0  ...   \n",
       "4            2.0        1            7.0            0                 1  ...   \n",
       "...          ...      ...            ...          ...               ...  ...   \n",
       "1595         2.0        0            7.0            1                 0  ...   \n",
       "1597         1.0        1            7.0            0                 1  ...   \n",
       "1598         1.0        2            6.0            0                 0  ...   \n",
       "1599         1.0        0            0.0            0                 0  ...   \n",
       "1600         1.0        1            3.0            2                 0  ...   \n",
       "\n",
       "      package_food  package_transport_tz  package_sightseeing  \\\n",
       "0                1                     1                    1   \n",
       "1                0                     0                    0   \n",
       "2                0                     0                    0   \n",
       "3                0                     0                    0   \n",
       "4                1                     1                    0   \n",
       "...            ...                   ...                  ...   \n",
       "1595             0                     0                    0   \n",
       "1597             1                     1                    1   \n",
       "1598             0                     0                    0   \n",
       "1599             0                     0                    0   \n",
       "1600             0                     0                    0   \n",
       "\n",
       "      package_guided_tour  package_insurance  night_mainland  night_zanzibar  \\\n",
       "0                       1                  1              10               3   \n",
       "1                       0                  0              13               0   \n",
       "2                       0                  0               7              14   \n",
       "3                       0                  0               0               4   \n",
       "4                       0                  0              10               0   \n",
       "...                   ...                ...             ...             ...   \n",
       "1595                    0                  0               2               0   \n",
       "1597                    0                  0              10               5   \n",
       "1598                    0                  0               6               0   \n",
       "1599                    0                  0               4               0   \n",
       "1600                    0                  0               9               5   \n",
       "\n",
       "      payment_mode  first_trip_tz  most_impressing  \n",
       "0                0              1                0  \n",
       "1                0              0                6  \n",
       "2                0              0                4  \n",
       "3                0              1                2  \n",
       "4                0              1                2  \n",
       "...            ...            ...              ...  \n",
       "1595             1              1                4  \n",
       "1597             2              1                0  \n",
       "1598             0              1                4  \n",
       "1599             0              1                0  \n",
       "1600             0              1                2  \n",
       "\n",
       "[1177 rows x 22 columns]"
      ]
     },
     "execution_count": 179,
     "metadata": {},
     "output_type": "execute_result"
    }
   ],
   "source": [
    "data_val"
   ]
  },
  {
   "cell_type": "code",
   "execution_count": 231,
   "id": "91104238",
   "metadata": {},
   "outputs": [
    {
     "name": "stdout",
     "output_type": "stream",
     "text": [
      "Meilleurs parametres {'max_features': 0.5, 'n_estimators': 1000, 'random_state': 4}\n"
     ]
    }
   ],
   "source": [
    "# Trouvons les meilleurs parametres pour l'algorithme du Random Forest.\n",
    "rg=RandomForestRegressor()\n",
    "hyper_params_randomForest={'n_estimators':[800,1000], \n",
    "                           'max_features':[1,0.5,0.2],\n",
    "                           'random_state':[3,4,5]\n",
    "              }\n",
    "grid=GridSearchCV(rg, hyper_params_randomForest, cv=5)\n",
    "grid.fit(x_train,y_train)\n",
    "print(\"Meilleurs parametres\",grid.best_params_)\n"
   ]
  },
  {
   "cell_type": "markdown",
   "id": "f11afb7a",
   "metadata": {},
   "source": [
    "#### Entrainement et evaluation des algorithmes utilisés"
   ]
  },
  {
   "cell_type": "code",
   "execution_count": 211,
   "id": "402e87a0",
   "metadata": {},
   "outputs": [],
   "source": [
    "# Definissons la fonction evaluation_model\n",
    "def evaluation_model(model):\n",
    "    \n",
    "    model.fit(x_train, y_train)\n",
    "    \n",
    "    y_pred=model.predict(x_val)\n",
    "    \n",
    "    mae=mean_absolute_error(y_val,y_pred)\n",
    "    \n",
    "    print(f\"cet algorithme a pour erreur absolue moyen : {mae}\")\n",
    "    "
   ]
  },
  {
   "cell_type": "code",
   "execution_count": 238,
   "id": "bdf38f10",
   "metadata": {},
   "outputs": [],
   "source": [
    "# Algorithmes utilisés\n",
    "#RandomForestRegressor=RandomForestRegressor(max_features= 0.5, n_estimators=1000, random_state= 4)\n",
    "RandomForestRegressor=RandomForestRegressor()\n",
    "LinearRegression=LinearRegression()\n",
    "SVR=SVR()\n",
    "GradientBoostingRegressor=GradientBoostingRegressor()"
   ]
  },
  {
   "cell_type": "code",
   "execution_count": 239,
   "id": "ba35149b",
   "metadata": {},
   "outputs": [],
   "source": [
    "# Nous creons un dictionnaire qui regroupe tous les algorithmes utilisés.\n",
    "dict_of_models={\n",
    "    'RandomForestRegressor':RandomForestRegressor,\n",
    "    'LinearRegression':LinearRegression,\n",
    "    'SVR':SVR,\n",
    "    'GradientBoostingRegressor':GradientBoostingRegressor\n",
    "}"
   ]
  },
  {
   "cell_type": "code",
   "execution_count": 240,
   "id": "a3357f6c",
   "metadata": {},
   "outputs": [
    {
     "name": "stdout",
     "output_type": "stream",
     "text": [
      "RandomForestRegressor\n",
      "cet algorithme a pour erreur absolue moen : 23983.729210722602\n",
      "LinearRegression\n",
      "cet algorithme a pour erreur absolue moen : 6.031137998781108e-09\n",
      "SVR\n",
      "cet algorithme a pour erreur absolue moen : 8225455.7907691635\n",
      "GradientBoostingRegressor\n",
      "cet algorithme a pour erreur absolue moen : 61408.19075961609\n"
     ]
    }
   ],
   "source": [
    "# Evaluation de chaque algorithme avec la fonction: evaluation_model.\n",
    "for name, model  in dict_of_models.items():\n",
    "    print(name)\n",
    "    evaluation_model(model)"
   ]
  },
  {
   "cell_type": "markdown",
   "id": "e5c6c585",
   "metadata": {},
   "source": [
    "#### Essayons d'ameliorer les resltats en utilisant le gridsearch CV"
   ]
  },
  {
   "cell_type": "code",
   "execution_count": 225,
   "id": "c2b1fc6b",
   "metadata": {},
   "outputs": [
    {
     "data": {
      "text/html": [
       "<div>\n",
       "<style scoped>\n",
       "    .dataframe tbody tr th:only-of-type {\n",
       "        vertical-align: middle;\n",
       "    }\n",
       "\n",
       "    .dataframe tbody tr th {\n",
       "        vertical-align: top;\n",
       "    }\n",
       "\n",
       "    .dataframe thead th {\n",
       "        text-align: right;\n",
       "    }\n",
       "</style>\n",
       "<table border=\"1\" class=\"dataframe\">\n",
       "  <thead>\n",
       "    <tr style=\"text-align: right;\">\n",
       "      <th></th>\n",
       "      <th>age_group</th>\n",
       "      <th>travel_with</th>\n",
       "      <th>total_female</th>\n",
       "      <th>total_male</th>\n",
       "      <th>purpose</th>\n",
       "      <th>main_activity</th>\n",
       "      <th>info_source</th>\n",
       "      <th>tour_arrangement</th>\n",
       "      <th>package_transport_int</th>\n",
       "      <th>package_accomodation</th>\n",
       "      <th>...</th>\n",
       "      <th>package_transport_tz</th>\n",
       "      <th>package_sightseeing</th>\n",
       "      <th>package_guided_tour</th>\n",
       "      <th>package_insurance</th>\n",
       "      <th>night_mainland</th>\n",
       "      <th>night_zanzibar</th>\n",
       "      <th>payment_mode</th>\n",
       "      <th>first_trip_tz</th>\n",
       "      <th>most_impressing</th>\n",
       "      <th>total_cost</th>\n",
       "    </tr>\n",
       "  </thead>\n",
       "  <tbody>\n",
       "    <tr>\n",
       "      <th>2214</th>\n",
       "      <td>1</td>\n",
       "      <td>3</td>\n",
       "      <td>1.0</td>\n",
       "      <td>1.0</td>\n",
       "      <td>1</td>\n",
       "      <td>3.0</td>\n",
       "      <td>0</td>\n",
       "      <td>0</td>\n",
       "      <td>0</td>\n",
       "      <td>0</td>\n",
       "      <td>...</td>\n",
       "      <td>0</td>\n",
       "      <td>0</td>\n",
       "      <td>0</td>\n",
       "      <td>0</td>\n",
       "      <td>0.0</td>\n",
       "      <td>15.0</td>\n",
       "      <td>0</td>\n",
       "      <td>1</td>\n",
       "      <td>0</td>\n",
       "      <td>2269330.0</td>\n",
       "    </tr>\n",
       "    <tr>\n",
       "      <th>4203</th>\n",
       "      <td>3</td>\n",
       "      <td>3</td>\n",
       "      <td>1.0</td>\n",
       "      <td>1.0</td>\n",
       "      <td>1</td>\n",
       "      <td>7.0</td>\n",
       "      <td>5</td>\n",
       "      <td>1</td>\n",
       "      <td>0</td>\n",
       "      <td>1</td>\n",
       "      <td>...</td>\n",
       "      <td>1</td>\n",
       "      <td>1</td>\n",
       "      <td>1</td>\n",
       "      <td>1</td>\n",
       "      <td>10.0</td>\n",
       "      <td>0.0</td>\n",
       "      <td>0</td>\n",
       "      <td>1</td>\n",
       "      <td>2</td>\n",
       "      <td>12265500.0</td>\n",
       "    </tr>\n",
       "    <tr>\n",
       "      <th>1633</th>\n",
       "      <td>2</td>\n",
       "      <td>0</td>\n",
       "      <td>1.0</td>\n",
       "      <td>0.0</td>\n",
       "      <td>5</td>\n",
       "      <td>5.0</td>\n",
       "      <td>0</td>\n",
       "      <td>0</td>\n",
       "      <td>0</td>\n",
       "      <td>0</td>\n",
       "      <td>...</td>\n",
       "      <td>0</td>\n",
       "      <td>0</td>\n",
       "      <td>0</td>\n",
       "      <td>0</td>\n",
       "      <td>14.0</td>\n",
       "      <td>0.0</td>\n",
       "      <td>0</td>\n",
       "      <td>1</td>\n",
       "      <td>2</td>\n",
       "      <td>94440.0</td>\n",
       "    </tr>\n",
       "    <tr>\n",
       "      <th>4145</th>\n",
       "      <td>1</td>\n",
       "      <td>3</td>\n",
       "      <td>1.0</td>\n",
       "      <td>1.0</td>\n",
       "      <td>1</td>\n",
       "      <td>7.0</td>\n",
       "      <td>0</td>\n",
       "      <td>0</td>\n",
       "      <td>0</td>\n",
       "      <td>0</td>\n",
       "      <td>...</td>\n",
       "      <td>0</td>\n",
       "      <td>0</td>\n",
       "      <td>0</td>\n",
       "      <td>0</td>\n",
       "      <td>30.0</td>\n",
       "      <td>0.0</td>\n",
       "      <td>0</td>\n",
       "      <td>0</td>\n",
       "      <td>1</td>\n",
       "      <td>8287500.0</td>\n",
       "    </tr>\n",
       "    <tr>\n",
       "      <th>3980</th>\n",
       "      <td>1</td>\n",
       "      <td>3</td>\n",
       "      <td>1.0</td>\n",
       "      <td>1.0</td>\n",
       "      <td>1</td>\n",
       "      <td>7.0</td>\n",
       "      <td>5</td>\n",
       "      <td>1</td>\n",
       "      <td>0</td>\n",
       "      <td>1</td>\n",
       "      <td>...</td>\n",
       "      <td>1</td>\n",
       "      <td>1</td>\n",
       "      <td>1</td>\n",
       "      <td>0</td>\n",
       "      <td>4.0</td>\n",
       "      <td>10.0</td>\n",
       "      <td>0</td>\n",
       "      <td>1</td>\n",
       "      <td>0</td>\n",
       "      <td>6630000.0</td>\n",
       "    </tr>\n",
       "    <tr>\n",
       "      <th>...</th>\n",
       "      <td>...</td>\n",
       "      <td>...</td>\n",
       "      <td>...</td>\n",
       "      <td>...</td>\n",
       "      <td>...</td>\n",
       "      <td>...</td>\n",
       "      <td>...</td>\n",
       "      <td>...</td>\n",
       "      <td>...</td>\n",
       "      <td>...</td>\n",
       "      <td>...</td>\n",
       "      <td>...</td>\n",
       "      <td>...</td>\n",
       "      <td>...</td>\n",
       "      <td>...</td>\n",
       "      <td>...</td>\n",
       "      <td>...</td>\n",
       "      <td>...</td>\n",
       "      <td>...</td>\n",
       "      <td>...</td>\n",
       "      <td>...</td>\n",
       "    </tr>\n",
       "    <tr>\n",
       "      <th>3795</th>\n",
       "      <td>1</td>\n",
       "      <td>0</td>\n",
       "      <td>0.0</td>\n",
       "      <td>1.0</td>\n",
       "      <td>3</td>\n",
       "      <td>5.0</td>\n",
       "      <td>7</td>\n",
       "      <td>0</td>\n",
       "      <td>0</td>\n",
       "      <td>0</td>\n",
       "      <td>...</td>\n",
       "      <td>0</td>\n",
       "      <td>0</td>\n",
       "      <td>0</td>\n",
       "      <td>0</td>\n",
       "      <td>2.0</td>\n",
       "      <td>0.0</td>\n",
       "      <td>0</td>\n",
       "      <td>0</td>\n",
       "      <td>2</td>\n",
       "      <td>331500.0</td>\n",
       "    </tr>\n",
       "    <tr>\n",
       "      <th>1285</th>\n",
       "      <td>1</td>\n",
       "      <td>3</td>\n",
       "      <td>1.0</td>\n",
       "      <td>1.0</td>\n",
       "      <td>5</td>\n",
       "      <td>7.0</td>\n",
       "      <td>0</td>\n",
       "      <td>0</td>\n",
       "      <td>0</td>\n",
       "      <td>0</td>\n",
       "      <td>...</td>\n",
       "      <td>0</td>\n",
       "      <td>0</td>\n",
       "      <td>0</td>\n",
       "      <td>0</td>\n",
       "      <td>20.0</td>\n",
       "      <td>0.0</td>\n",
       "      <td>0</td>\n",
       "      <td>0</td>\n",
       "      <td>4</td>\n",
       "      <td>500000.0</td>\n",
       "    </tr>\n",
       "    <tr>\n",
       "      <th>1575</th>\n",
       "      <td>2</td>\n",
       "      <td>4</td>\n",
       "      <td>2.0</td>\n",
       "      <td>2.0</td>\n",
       "      <td>1</td>\n",
       "      <td>7.0</td>\n",
       "      <td>5</td>\n",
       "      <td>1</td>\n",
       "      <td>1</td>\n",
       "      <td>1</td>\n",
       "      <td>...</td>\n",
       "      <td>1</td>\n",
       "      <td>1</td>\n",
       "      <td>1</td>\n",
       "      <td>0</td>\n",
       "      <td>7.0</td>\n",
       "      <td>6.0</td>\n",
       "      <td>1</td>\n",
       "      <td>0</td>\n",
       "      <td>2</td>\n",
       "      <td>44098275.0</td>\n",
       "    </tr>\n",
       "    <tr>\n",
       "      <th>326</th>\n",
       "      <td>0</td>\n",
       "      <td>2</td>\n",
       "      <td>0.0</td>\n",
       "      <td>3.0</td>\n",
       "      <td>0</td>\n",
       "      <td>7.0</td>\n",
       "      <td>0</td>\n",
       "      <td>0</td>\n",
       "      <td>0</td>\n",
       "      <td>0</td>\n",
       "      <td>...</td>\n",
       "      <td>0</td>\n",
       "      <td>0</td>\n",
       "      <td>0</td>\n",
       "      <td>0</td>\n",
       "      <td>5.0</td>\n",
       "      <td>0.0</td>\n",
       "      <td>1</td>\n",
       "      <td>1</td>\n",
       "      <td>4</td>\n",
       "      <td>2320500.0</td>\n",
       "    </tr>\n",
       "    <tr>\n",
       "      <th>1528</th>\n",
       "      <td>2</td>\n",
       "      <td>3</td>\n",
       "      <td>1.0</td>\n",
       "      <td>1.0</td>\n",
       "      <td>1</td>\n",
       "      <td>7.0</td>\n",
       "      <td>0</td>\n",
       "      <td>1</td>\n",
       "      <td>0</td>\n",
       "      <td>1</td>\n",
       "      <td>...</td>\n",
       "      <td>1</td>\n",
       "      <td>1</td>\n",
       "      <td>1</td>\n",
       "      <td>0</td>\n",
       "      <td>10.0</td>\n",
       "      <td>2.0</td>\n",
       "      <td>0</td>\n",
       "      <td>1</td>\n",
       "      <td>3</td>\n",
       "      <td>10773750.0</td>\n",
       "    </tr>\n",
       "  </tbody>\n",
       "</table>\n",
       "<p>2768 rows × 21 columns</p>\n",
       "</div>"
      ],
      "text/plain": [
       "      age_group  travel_with  total_female  total_male  purpose  \\\n",
       "2214          1            3           1.0         1.0        1   \n",
       "4203          3            3           1.0         1.0        1   \n",
       "1633          2            0           1.0         0.0        5   \n",
       "4145          1            3           1.0         1.0        1   \n",
       "3980          1            3           1.0         1.0        1   \n",
       "...         ...          ...           ...         ...      ...   \n",
       "3795          1            0           0.0         1.0        3   \n",
       "1285          1            3           1.0         1.0        5   \n",
       "1575          2            4           2.0         2.0        1   \n",
       "326           0            2           0.0         3.0        0   \n",
       "1528          2            3           1.0         1.0        1   \n",
       "\n",
       "      main_activity  info_source  tour_arrangement  package_transport_int  \\\n",
       "2214            3.0            0                 0                      0   \n",
       "4203            7.0            5                 1                      0   \n",
       "1633            5.0            0                 0                      0   \n",
       "4145            7.0            0                 0                      0   \n",
       "3980            7.0            5                 1                      0   \n",
       "...             ...          ...               ...                    ...   \n",
       "3795            5.0            7                 0                      0   \n",
       "1285            7.0            0                 0                      0   \n",
       "1575            7.0            5                 1                      1   \n",
       "326             7.0            0                 0                      0   \n",
       "1528            7.0            0                 1                      0   \n",
       "\n",
       "      package_accomodation  ...  package_transport_tz  package_sightseeing  \\\n",
       "2214                     0  ...                     0                    0   \n",
       "4203                     1  ...                     1                    1   \n",
       "1633                     0  ...                     0                    0   \n",
       "4145                     0  ...                     0                    0   \n",
       "3980                     1  ...                     1                    1   \n",
       "...                    ...  ...                   ...                  ...   \n",
       "3795                     0  ...                     0                    0   \n",
       "1285                     0  ...                     0                    0   \n",
       "1575                     1  ...                     1                    1   \n",
       "326                      0  ...                     0                    0   \n",
       "1528                     1  ...                     1                    1   \n",
       "\n",
       "      package_guided_tour  package_insurance  night_mainland  night_zanzibar  \\\n",
       "2214                    0                  0             0.0            15.0   \n",
       "4203                    1                  1            10.0             0.0   \n",
       "1633                    0                  0            14.0             0.0   \n",
       "4145                    0                  0            30.0             0.0   \n",
       "3980                    1                  0             4.0            10.0   \n",
       "...                   ...                ...             ...             ...   \n",
       "3795                    0                  0             2.0             0.0   \n",
       "1285                    0                  0            20.0             0.0   \n",
       "1575                    1                  0             7.0             6.0   \n",
       "326                     0                  0             5.0             0.0   \n",
       "1528                    1                  0            10.0             2.0   \n",
       "\n",
       "      payment_mode  first_trip_tz  most_impressing  total_cost  \n",
       "2214             0              1                0   2269330.0  \n",
       "4203             0              1                2  12265500.0  \n",
       "1633             0              1                2     94440.0  \n",
       "4145             0              0                1   8287500.0  \n",
       "3980             0              1                0   6630000.0  \n",
       "...            ...            ...              ...         ...  \n",
       "3795             0              0                2    331500.0  \n",
       "1285             0              0                4    500000.0  \n",
       "1575             1              0                2  44098275.0  \n",
       "326              1              1                4   2320500.0  \n",
       "1528             0              1                3  10773750.0  \n",
       "\n",
       "[2768 rows x 21 columns]"
      ]
     },
     "execution_count": 225,
     "metadata": {},
     "output_type": "execute_result"
    }
   ],
   "source": [
    "x_train"
   ]
  },
  {
   "cell_type": "code",
   "execution_count": null,
   "id": "a0c2744f",
   "metadata": {},
   "outputs": [],
   "source": []
  },
  {
   "cell_type": "code",
   "execution_count": null,
   "id": "4811afa7",
   "metadata": {},
   "outputs": [],
   "source": []
  }
 ],
 "metadata": {
  "kernelspec": {
   "display_name": "Python 3",
   "language": "python",
   "name": "python3"
  },
  "language_info": {
   "codemirror_mode": {
    "name": "ipython",
    "version": 3
   },
   "file_extension": ".py",
   "mimetype": "text/x-python",
   "name": "python",
   "nbconvert_exporter": "python",
   "pygments_lexer": "ipython3",
   "version": "3.8.8"
  }
 },
 "nbformat": 4,
 "nbformat_minor": 5
}
